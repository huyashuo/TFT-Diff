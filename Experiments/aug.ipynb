{
 "cells": [
  {
   "cell_type": "code",
   "execution_count": null,
   "outputs": [],
   "source": [
    "import numpy as np\n",
    "\n",
    "data_aug = np.load('D:\\dev-project\\DiffusionGenerate-tr-nosp1\\generative_model\\data_processed\\EEG Eye State/augment\\ddpm_fake_1_eeg-0.2-diff.npy')\n",
    "print(data_aug.shape)\n",
    "data_raw = np.load('D:\\dev-project\\DiffusionGenerate-tr-nosp1\\generative_model\\data_processed\\EEG Eye State\\processed_small/train-0.2.npz')\n",
    "data_1 = data_raw['data']\n",
    "target_1 = data_raw['target']\n",
    "print(data_1.shape)\n",
    "print(target_1.shape)\n",
    "\n",
    "combined_data = np.vstack([data_aug, data_1])\n",
    "target1 = np.ones(data_aug.shape[0]).astype(np.int64)\n",
    "combined_target = np.concatenate([target1, target_1])\n",
    "\n",
    "print(combined_data.shape)\n",
    "print(combined_target.shape)\n",
    "\n",
    "np.savez_compressed(\"D:\\dev-project\\DiffusionGenerate-tr-nosp1\\generative_model\\data_processed\\EEG Eye State/augment/train.npz\", data=combined_data, target=combined_target)\n"
   ],
   "metadata": {
    "collapsed": false
   },
   "id": "ab670c1117b0e054"
  },
  {
   "cell_type": "code",
   "execution_count": null,
   "outputs": [],
   "source": [
    "import numpy as np\n",
    "\n",
    "# Cargar el dataset de entrenamiento\n",
    "train_data = np.load('D:\\dev-project\\DiffusionGenerate-tr-nosp1\\generative_model\\data_processed\\EEG Eye State/augment/train.npz')\n",
    "# train_data = np.load('D:\\dev-project\\DiffusionGenerate-tr-nosp1\\generative_model\\data_processed\\EEG Eye State\\processed_small/train.npz')\n",
    "X_train = train_data['target']\n",
    "y_train = train_data['data']\n",
    "\n",
    "print(\"Shape of X_train:\", X_train.shape)\n",
    "print(\"Shape of y_train:\", y_train.shape)"
   ],
   "metadata": {
    "collapsed": false
   },
   "id": "initial_id"
  },
  {
   "cell_type": "code",
   "execution_count": null,
   "outputs": [],
   "source": [
    "# 获取所有类别及其样本数\n",
    "unique_classes = np.unique(X_train)\n",
    "num_classes = len(unique_classes)\n",
    "print(\"类别总数:\", num_classes)\n",
    "print(\"类别列表:\", unique_classes)\n",
    "\n",
    "# 统计每个类别的样本数量\n",
    "class_counts = {class_label: np.sum(X_train == class_label) for class_label in unique_classes}\n",
    "print(\"每个类别的样本数:\", class_counts)\n"
   ],
   "metadata": {
    "collapsed": false
   },
   "id": "d623ceb2ef739de3"
  },
  {
   "cell_type": "code",
   "execution_count": null,
   "outputs": [],
   "source": [
    "from sklearn.preprocessing import StandardScaler\n",
    "\n",
    "# Reshape the data to 2D for scaling\n",
    "y_train_reshaped = y_train.reshape(y_train.shape[0], -1)\n",
    "\n",
    "# Fit and transform the training data\n",
    "scaler = StandardScaler()\n",
    "y_train_scaled = scaler.fit_transform(y_train_reshaped)\n",
    "\n",
    "# Reshape back to original shape\n",
    "y_train_scaled = y_train_scaled.reshape(y_train.shape)\n",
    "\n",
    "print(\"Shape of y_train_scaled:\", y_train_scaled.shape)"
   ],
   "metadata": {
    "collapsed": false
   },
   "id": "6791d7ea8b02b03b"
  },
  {
   "cell_type": "code",
   "execution_count": null,
   "outputs": [],
   "source": [
    "from tensorflow.keras.models import Sequential\n",
    "from tensorflow.keras.layers import LSTM, Dense, Dropout, Input\n",
    "\n",
    "# Asumimos que y_train_scaled es nuestro conjunto de entrenamiento\n",
    "# y que X_train contiene las etiquetas\n",
    "\n",
    "# Definir la forma de entrada\n",
    "input_shape = (y_train_scaled.shape[1], y_train_scaled.shape[2])\n",
    "\n",
    "model = Sequential([\n",
    "    Input(shape=input_shape),\n",
    "    LSTM(64, return_sequences=True),\n",
    "    Dropout(0.5),\n",
    "    LSTM(64, return_sequences=False),\n",
    "    Dropout(0.5),\n",
    "    Dense(1, activation='sigmoid')\n",
    "])\n",
    "\n",
    "model.compile(optimizer='adam', loss='binary_crossentropy', metrics=['accuracy'])"
   ],
   "metadata": {
    "collapsed": false
   },
   "id": "596cc142d7f3c336"
  },
  {
   "cell_type": "code",
   "execution_count": null,
   "outputs": [],
   "source": [
    "import numpy as np\n",
    "\n",
    "# 加载原始测试数据\n",
    "data_raw = np.load(r'D:\\dev-project\\DiffusionGenerate-tr-nosp1\\generative_model\\data_processed\\EEG Eye State\\processed_small\\test.npz')\n",
    "data_test = data_raw['data']\n",
    "target_test = data_raw['target']\n"
   ],
   "metadata": {
    "collapsed": false
   },
   "id": "a7d94f87d7935925"
  },
  {
   "cell_type": "code",
   "execution_count": null,
   "outputs": [],
   "source": [
    "from sklearn.model_selection import train_test_split\n",
    "\n",
    "model.fit(y_train_scaled, X_train, \n",
    "          validation_data=(data_test, target_test),\n",
    "          epochs=10, \n",
    "          batch_size=32)\n"
   ],
   "metadata": {
    "collapsed": false
   },
   "id": "56f7e8d36d6b2fef"
  },
  {
   "cell_type": "code",
   "execution_count": null,
   "outputs": [],
   "source": [
    "# Evaluar el modelo en el conjunto de validación balanceado\n",
    "val_balanced_loss, val_balanced_accuracy = model.evaluate(data_test, target_test)\n",
    "print(f\"Validation Balanced Loss: {val_balanced_loss}\")\n",
    "print(f\"Validation Balanced Accuracy: {val_balanced_accuracy}\")"
   ],
   "metadata": {
    "collapsed": false
   },
   "id": "65a8e018cab256b0"
  },
  {
   "cell_type": "code",
   "execution_count": null,
   "outputs": [],
   "source": [
    "from sklearn.metrics import classification_report, confusion_matrix, roc_auc_score\n",
    "import numpy as np\n",
    "import matplotlib.pyplot as plt\n",
    "import seaborn as sns\n",
    "\n",
    "# Hacer predicciones\n",
    "y_pred_prob = model.predict(data_test)\n",
    "y_pred = (y_pred_prob > 0.5).astype(int)\n",
    "\n",
    "# Calcular métricas adicionales\n",
    "print(classification_report(target_test, y_pred))\n",
    "\n",
    "# Matriz de confusión\n",
    "cm = confusion_matrix(target_test, y_pred)\n",
    "plt.figure(figsize=(10,7))\n",
    "sns.heatmap(cm, annot=True, fmt='d')\n",
    "plt.title('Confusion Matrix')\n",
    "plt.ylabel('Actual')\n",
    "plt.xlabel('Predicted')\n",
    "plt.show()\n",
    "\n",
    "#敏感性和特异性分析\n",
    "tn, fp, fn, tp = confusion_matrix(target_test, y_pred, labels=[0, 1]).ravel()\n",
    "sensitivity = tp / (tp + fn + 1e-9)\n",
    "specificity = tn / (tn + fp + 1e-9)\n",
    "print(f\"sensitivity Score: {sensitivity}\")\n",
    "print(f\"specificity Score: {specificity}\")\n",
    "\n",
    "# ROC-AUC score\n",
    "auc_roc = roc_auc_score(target_test, y_pred_prob)\n",
    "print(f\"ROC-AUC Score: {auc_roc}\")\n",
    "\n",
    "# Curva ROC\n",
    "from sklearn.metrics import roc_curve\n",
    "fpr, tpr, _ = roc_curve(target_test, y_pred_prob)\n",
    "plt.figure()\n",
    "plt.plot(fpr, tpr, label=f'ROC curve (AUC = {auc_roc:.2f})')\n",
    "plt.plot([0, 1], [0, 1], 'k--')\n",
    "plt.xlim([0.0, 1.0])\n",
    "plt.ylim([0.0, 1.05])\n",
    "plt.xlabel('False Positive Rate')\n",
    "plt.ylabel('True Positive Rate')\n",
    "plt.title('Receiver Operating Characteristic (ROC) Curve')\n",
    "plt.legend(loc=\"lower right\")\n",
    "plt.show()"
   ],
   "metadata": {
    "collapsed": false
   },
   "id": "e9cdd0fbdc2bac08"
  },
  {
   "cell_type": "code",
   "execution_count": null,
   "outputs": [],
   "source": [],
   "metadata": {
    "collapsed": false
   },
   "id": "2dc13a341ed1a21c"
  }
 ],
 "metadata": {
  "kernelspec": {
   "display_name": "Python 3",
   "language": "python",
   "name": "python3"
  },
  "language_info": {
   "codemirror_mode": {
    "name": "ipython",
    "version": 2
   },
   "file_extension": ".py",
   "mimetype": "text/x-python",
   "name": "python",
   "nbconvert_exporter": "python",
   "pygments_lexer": "ipython2",
   "version": "2.7.6"
  }
 },
 "nbformat": 4,
 "nbformat_minor": 5
}
